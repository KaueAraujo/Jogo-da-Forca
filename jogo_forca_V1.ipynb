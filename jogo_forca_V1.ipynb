{
 "cells": [
  {
   "cell_type": "code",
   "execution_count": 6,
   "metadata": {},
   "outputs": [],
   "source": [
    "from os import system, name"
   ]
  },
  {
   "cell_type": "code",
   "execution_count": 3,
   "metadata": {},
   "outputs": [],
   "source": [
    "def limpaTela():\n",
    "    #Windows\n",
    "    if name == 'nt':\n",
    "        _=system('cls')\n",
    "    #Mac / Linux\n",
    "    else:\n",
    "        _=system('clear')"
   ]
  },
  {
   "cell_type": "code",
   "execution_count": 24,
   "metadata": {},
   "outputs": [],
   "source": [
    "def sorteiaPalavra():\n",
    "    import random\n",
    "\n",
    "    with open('./vocabulario.txt', 'r', encoding='utf-8') as arquivo:\n",
    "        conteudo = arquivo.read()\n",
    "        palavras = conteudo.split('\\n')\n",
    "    \n",
    "    return random.choice(palavras)"
   ]
  },
  {
   "cell_type": "code",
   "execution_count": 65,
   "metadata": {},
   "outputs": [],
   "source": [
    "def executaGame():\n",
    "    \n",
    "    from unidecode import unidecode\n",
    "\n",
    "    limpaTela()\n",
    "    print('Bem vindo(a) ao jogo da FORCA!')\n",
    "    print('Adivinhe a palavra abaixo antes de se enrolar...')\n",
    "\n",
    "    #Escolhe aleatoriamente uma palavra\n",
    "    palavra_chave = sorteiaPalavra()\n",
    "\n",
    "    #Palavra sem acentos ou cedilha\n",
    "    palavra_chave_limpa = unidecode(palavra_chave)\n",
    "\n",
    "    #Máscara da palavra chave\n",
    "    letras_descobertas = ['_' for letra in palavra_chave]\n",
    "\n",
    "    #Número de vidas máximas\n",
    "    vidas = 6\n",
    "\n",
    "    #Lista de letras erradas\n",
    "    letras_erradas =[]\n",
    "\n",
    "    while vidas>0:\n",
    "\n",
    "        #Preenche hífen\n",
    "        if \"-\" in palavra_chave:\n",
    "            index = 0\n",
    "            for letra in palavra_chave:\n",
    "                if letra == \"-\":\n",
    "                    letras_descobertas[index]=\"-\"\n",
    "                index+=1\n",
    "                \n",
    "        #Print\n",
    "        print(\" \".join(letras_descobertas))\n",
    "        print(\"Vidas Restantes: \", vidas)\n",
    "        print(\"Letras erradas: \", \" \".join(letras_erradas))\n",
    "        print(\"\")\n",
    "\n",
    "        #Tentativa\n",
    "        tentativa = input(\"\\nEscolha uma letra: \").lower()\n",
    "        tentativa = unidecode(tentativa)\n",
    "\n",
    "        #Verifica se a letra está na palavra\n",
    "        if tentativa in palavra_chave_limpa:\n",
    "            index = 0\n",
    "            for letra in palavra_chave_limpa:\n",
    "                if letra == tentativa:\n",
    "                    letras_descobertas[index]=palavra_chave[index]\n",
    "                index+=1\n",
    "        else:\n",
    "            vidas-=1\n",
    "            letras_erradas.append(tentativa)\n",
    "\n",
    "        #Verifica se o jogador venceu\n",
    "        if '_' not in letras_descobertas:\n",
    "            print(\"Parabéns! Você descobriu a palavra: \", palavra_chave)\n",
    "            break\n",
    "    \n",
    "    #Verifica se o jador perdeu\n",
    "    if '_' in letras_descobertas:\n",
    "        print(\"Mais sorte na próxima vez! A palavra era: \", palavra_chave)"
   ]
  },
  {
   "cell_type": "code",
   "execution_count": 67,
   "metadata": {},
   "outputs": [
    {
     "name": "stdout",
     "output_type": "stream",
     "text": [
      "Bem vindo(a) ao jogo da FORCA!\n",
      "Adivinhe a palavra abaixo antes de se enrolar...\n",
      "_ _ _ _ - _ _ - _ _ _ _\n",
      "Vidas Restantes:  6\n",
      "Letras erradas:  \n",
      "\n",
      "_ a _ ã - _ _ - a _ _ _\n",
      "Vidas Restantes:  6\n",
      "Letras erradas:  \n",
      "\n",
      "_ a _ ã - d _ - a _ _ _\n",
      "Vidas Restantes:  6\n",
      "Letras erradas:  \n",
      "\n",
      "_ a ç ã - d _ - a _ _ _\n",
      "Vidas Restantes:  6\n",
      "Letras erradas:  \n",
      "\n",
      "m a ç ã - d _ - a m _ _\n",
      "Vidas Restantes:  6\n",
      "Letras erradas:  \n",
      "\n",
      "m a ç ã - d o - a m o _\n",
      "Vidas Restantes:  6\n",
      "Letras erradas:  \n",
      "\n",
      "Parabéns! Você descobriu a palavra:  maçã-do-amor\n"
     ]
    }
   ],
   "source": [
    "if __name__ == '__main__':\n",
    "    executaGame()"
   ]
  },
  {
   "cell_type": "code",
   "execution_count": null,
   "metadata": {},
   "outputs": [],
   "source": []
  }
 ],
 "metadata": {
  "kernelspec": {
   "display_name": "kernel-jogo-forca",
   "language": "python",
   "name": "python3"
  },
  "language_info": {
   "codemirror_mode": {
    "name": "ipython",
    "version": 3
   },
   "file_extension": ".py",
   "mimetype": "text/x-python",
   "name": "python",
   "nbconvert_exporter": "python",
   "pygments_lexer": "ipython3",
   "version": "3.11.4"
  }
 },
 "nbformat": 4,
 "nbformat_minor": 2
}
